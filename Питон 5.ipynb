{
 "cells": [
  {
   "cell_type": "markdown",
   "id": "00a6b190",
   "metadata": {},
   "source": [
    "ЛАБОРАТОРНАЯ №5 - РЕШЕНИЕ ЗАДАЧ"
   ]
  },
  {
   "cell_type": "markdown",
   "id": "a43e50a7",
   "metadata": {},
   "source": [
    "Задача 1\n",
    "Напишите функцию square(), которая принимает на вход число и:\n",
    "- возвращает его квадрат;\n",
    "- выводит на экран сообщение вида \"Квадрат числа равен: n\" и ничего не возвращает;\n",
    "- выводит на экран сообщение вида \"Квадрат числа равен: n\" и возвращает квадрат числа;"
   ]
  },
  {
   "cell_type": "code",
   "execution_count": 2,
   "id": "e33caaa9",
   "metadata": {},
   "outputs": [
    {
     "name": "stdout",
     "output_type": "stream",
     "text": [
      "Введите число: 34\n",
      "1156\n",
      "Введите число: 7\n",
      "Квадрат числа равен: n\n",
      "Введите число: 5\n",
      "Квадрат числа равен: 25\n"
     ]
    }
   ],
   "source": [
    "a = int(input('Введите число: '))\n",
    "def square(a):\n",
    "  a = a**2\n",
    "  return a\n",
    "print(square(a))\n",
    "\n",
    "b = int(input('Введите число: '))\n",
    "def square(b):\n",
    "  b = b**2\n",
    "print('Квадрат числа равен: n')\n",
    "\n",
    "c = int(input('Введите число: '))\n",
    "def square(c):\n",
    "  c = c**2\n",
    "  return c\n",
    "print('Квадрат числа равен:', square(c))"
   ]
  },
  {
   "cell_type": "markdown",
   "id": "868d02e5",
   "metadata": {},
   "source": [
    "Задача 2\n",
    "Напишите функцию nums(), которая принимает на вход целое число, а возвращает список из двух элементов: целое число, предшествующее принятому на вход, и число, следующее за ним."
   ]
  },
  {
   "cell_type": "code",
   "execution_count": 7,
   "id": "1e35edfc",
   "metadata": {},
   "outputs": [
    {
     "name": "stdout",
     "output_type": "stream",
     "text": [
      "7\n",
      "[6, 8]\n"
     ]
    }
   ],
   "source": [
    "z = []\n",
    "a = int(input())\n",
    "def nums(a):\n",
    "  z.append(a-1)\n",
    "  z.append(a+1)\n",
    "  return z\n",
    "print(nums(a))"
   ]
  },
  {
   "cell_type": "markdown",
   "id": "2038223f",
   "metadata": {},
   "source": [
    "Задача 3\n",
    "Напишите функцию str_lower(), которая принимает на вход строку (набор слов через пробел), а возвращает список ее элементов в нижнем регистре."
   ]
  },
  {
   "cell_type": "code",
   "execution_count": 1,
   "id": "5a7e1eb7",
   "metadata": {},
   "outputs": [
    {
     "name": "stdout",
     "output_type": "stream",
     "text": [
      "Рысь лось Еното\n",
      "['рысь', 'лось', 'еното']\n"
     ]
    }
   ],
   "source": [
    "a = input().split()\n",
    "def str_lower(): \n",
    "  return [i.lower() for i in a]\n",
    "print(str_lower())"
   ]
  },
  {
   "cell_type": "markdown",
   "id": "6b467c45",
   "metadata": {},
   "source": [
    "Задача 4\n",
    "Напишите функцию my_log(), которая принимает на вход список чисел, и возвращает список их натуральных логарифмов. Если число меньше или равно 0, на его месте в возвращаемом списке должно быть None."
   ]
  },
  {
   "cell_type": "code",
   "execution_count": 6,
   "id": "9d4f124e",
   "metadata": {},
   "outputs": [
    {
     "name": "stdout",
     "output_type": "stream",
     "text": [
      "[0.0, 1.0986122886681098, 0.9162907318741551, 'None', 2.1972245773362196, 'None', 0.9969486348916096]\n"
     ]
    }
   ],
   "source": [
    "import math\n",
    "a = [1, 3, 2.5, -1, 9, 0, 2.71]\n",
    "b = []\n",
    "def my_log():\n",
    "  for i in a:\n",
    "   if i <= 0:\n",
    "     b.append('None')\n",
    "   else:\n",
    "      b.append(math.log(i))\n",
    "  return b\n",
    "print(my_log())"
   ]
  },
  {
   "cell_type": "markdown",
   "id": "0b0811cb",
   "metadata": {},
   "source": [
    "Задача 5\n",
    "Напишите функцию, которая принимает на вход два списка (имена людей и их возраст) и делает следующее:\n",
    "- если эти два списка имеют одинаковую длину, то возвращает словарь с парами имя-возраст;\n",
    "- если эти два списка имеют разную длину, то функция выводит на экран сообщение \"Списки имеют разную длину\" и возвращает пустой словарь."
   ]
  },
  {
   "cell_type": "code",
   "execution_count": 8,
   "id": "9e2d6bb2",
   "metadata": {},
   "outputs": [
    {
     "name": "stdout",
     "output_type": "stream",
     "text": [
      "Введите имена людей через пробел: Полина Марина Сергей Артем\n",
      "Введите возраст людей через пробел: 13 63 26 15\n",
      "{'Полина': 13, 'Марина': 63, 'Сергей': 26, 'Артем': 15}\n"
     ]
    }
   ],
   "source": [
    "names = input('Введите имена людей через пробел: ').split()\n",
    "age = []\n",
    "a = input('Введите возраст людей через пробел: ').split()\n",
    "b = {}\n",
    "def name_age():\n",
    "  for n in a:\n",
    "      age.append(int(n))\n",
    "  if len(names) != len(age):\n",
    "      print('Списки имеют разную длину')\n",
    "  else:\n",
    "      for i in range(0, len(names)):\n",
    "        b[names[i]] = age[i]\n",
    "  return b\n",
    "print(name_age())"
   ]
  },
  {
   "cell_type": "markdown",
   "id": "701abb09",
   "metadata": {},
   "source": [
    "Задача 6\n",
    "Напишите функцию all_sort(), которая принимает на вход перечень целых чисел через запятую (не список, а просто сколько угодно значений через запятую) и возвращает список этих значений, отсортированный по возрастанию."
   ]
  },
  {
   "cell_type": "code",
   "execution_count": 9,
   "id": "cd4f4aa7",
   "metadata": {},
   "outputs": [
    {
     "name": "stdout",
     "output_type": "stream",
     "text": [
      "Введите список целых чисел через запятую и пробел (1, 2, 3, ...): 36, 36, 27, 1, 17\n",
      "[1, 17, 27, 36, 36]\n"
     ]
    }
   ],
   "source": [
    "a = input('Введите список целых чисел через запятую и пробел (1, 2, 3, ...): ').split(', ')\n",
    "a1 = []\n",
    "for n in a:\n",
    "    a1.append(int(n))\n",
    "def all_sort():\n",
    "  a1.sort()\n",
    "  return a1\n",
    "print(all_sort())"
   ]
  },
  {
   "cell_type": "code",
   "execution_count": null,
   "id": "5a86333d",
   "metadata": {},
   "outputs": [],
   "source": []
  }
 ],
 "metadata": {
  "kernelspec": {
   "display_name": "Python 3",
   "language": "python",
   "name": "python3"
  },
  "language_info": {
   "codemirror_mode": {
    "name": "ipython",
    "version": 3
   },
   "file_extension": ".py",
   "mimetype": "text/x-python",
   "name": "python",
   "nbconvert_exporter": "python",
   "pygments_lexer": "ipython3",
   "version": "3.6.13"
  }
 },
 "nbformat": 4,
 "nbformat_minor": 5
}
