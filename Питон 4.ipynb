{
 "cells": [
  {
   "cell_type": "markdown",
   "metadata": {},
   "source": [
    "## Основы программирования в Python\n",
    "\n",
    "*Алла Тамбовцева, НИУ ВШЭ*\n",
    "\n",
    "## Семинар 4"
   ]
  },
  {
   "cell_type": "markdown",
   "metadata": {},
   "source": [
    "### Задача 1\n",
    "\n",
    "Напишите программу, которая просит пользователя ввести положительное число, и если пользователь вводит положительное число, выводит на экран сообщение \"Молодец!\", если нет ‒ \"Это не положительное число.\".\n",
    "\n",
    "Считайте, что пользователь в любом случае вводит числа, а не какой-то текст."
   ]
  },
  {
   "cell_type": "code",
   "execution_count": 5,
   "metadata": {},
   "outputs": [
    {
     "name": "stdout",
     "output_type": "stream",
     "text": [
      "Введите положительное число: -1\n",
      "Это не положительное число\n"
     ]
    }
   ],
   "source": [
    "a=float(input('Введите положительное число: '))\n",
    "if a>0:\n",
    "    print ('Молодец!')\n",
    "else: \n",
    "    print ('Это не положительное число')"
   ]
  },
  {
   "cell_type": "markdown",
   "metadata": {},
   "source": [
    "### Задача 2\n",
    "\n",
    "Напишите программу, которая принимает на вход список оценок студентов от 1 до 10, выводит на экран оценку, а после нее, с новой строки, комментарий \"Плохо\", \"Удовлетворительно\", \"Хорошо\", \"Отлично\" в зависимости от оценки."
   ]
  },
  {
   "cell_type": "code",
   "execution_count": 9,
   "metadata": {},
   "outputs": [
    {
     "name": "stdout",
     "output_type": "stream",
     "text": [
      "Введите оценки через пробел: 2 9 6 3\n",
      "2\n",
      "Плохо\n",
      "9\n",
      "Отлично\n",
      "6\n",
      "Удовлетворительно\n",
      "3\n",
      "Плохо\n"
     ]
    }
   ],
   "source": [
    "a = input('Введите оценки через пробел: ').split()\n",
    "a1 = []\n",
    "j=0\n",
    "for i in a:\n",
    "  a1.append(int(i))\n",
    "  print(a1[j])\n",
    "  if a1[j] < 5:\n",
    "    print('Плохо')\n",
    "  elif a1[j] < 7:\n",
    "    print('Удовлетворительно')\n",
    "  elif a1[j] < 9:\n",
    "    print('Хорошо')\n",
    "  else:\n",
    "    print('Отлично')\n",
    "  j=j+1"
   ]
  },
  {
   "cell_type": "markdown",
   "metadata": {},
   "source": [
    "### Задача 3\n",
    "\n",
    "Напишите программу, которая запрашивает у пользователя пароль, и далее:\n",
    "\n",
    "- если пароль верный, выводит на экран сообщение \"Login success\".\n",
    "- если пароль неверный, выводит на экран сообщение \"Incorrect password, try again!\" до тех пор, пока пользователь не введет верный пароль."
   ]
  },
  {
   "cell_type": "code",
   "execution_count": 12,
   "metadata": {},
   "outputs": [
    {
     "name": "stdout",
     "output_type": "stream",
     "text": [
      "Введите пароль 335\n",
      "Login success\n"
     ]
    }
   ],
   "source": [
    "password = '335'\n",
    "a = input('Введите пароль ')\n",
    "while a != password:\n",
    "  print(\"Incorrect password, try again!\")\n",
    "  a = input()\n",
    "if a == password:\n",
    "    print(\"Login success\")"
   ]
  },
  {
   "cell_type": "markdown",
   "metadata": {},
   "source": [
    "### Задача 4\n",
    "\n",
    "У питона есть набор любимых чисел.\n",
    "\n",
    "    favorites = [3, 7, 11, 23, 18, 48, 81]\n",
    "\n",
    "Напишите программу, которая просит пользователя ввести целое число, и если оно нравится питону, на экран будет выводиться сообщение: \"Мое любимое число!\", если нет ‒ \"Эх, ну почему?\"."
   ]
  },
  {
   "cell_type": "code",
   "execution_count": 14,
   "metadata": {},
   "outputs": [
    {
     "name": "stdout",
     "output_type": "stream",
     "text": [
      "Введите целое число: 11\n",
      "Моё любимое число!\n"
     ]
    }
   ],
   "source": [
    "favorites = [3, 7, 11, 23, 18, 48, 81]\n",
    "Num = int(input('Введите целое число: '))\n",
    "if Num in favorites:\n",
    "    print('Моё любимое число!')\n",
    "else:\n",
    "    print('Эх, ну почему?')"
   ]
  },
  {
   "cell_type": "markdown",
   "metadata": {},
   "source": [
    "### Задача 5\n",
    "\n",
    "Напишите программу, которая просит пользователя ввести число и, если оно чётное, выводит на экран сообщение: \"Это число чётное\", если нечётное ‒ \"Это число нечётное\"."
   ]
  },
  {
   "cell_type": "code",
   "execution_count": 15,
   "metadata": {},
   "outputs": [
    {
     "name": "stdout",
     "output_type": "stream",
     "text": [
      "Введите целое число: 55\n",
      "Это число нечётное\n"
     ]
    }
   ],
   "source": [
    "a = int(input('Введите целое число: '))\n",
    "if a % 2 == 1:\n",
    "    print('Это число нечётное')\n",
    "else:\n",
    "    print('Это число чётное')"
   ]
  },
  {
   "cell_type": "markdown",
   "metadata": {},
   "source": [
    "### Задача 6\n",
    "\n",
    "Напишите программу, которая просит пользователя ввести существительное, и если слово введено с большой буквы, то на экран выводится сообщение \"Это имя собственное.\", если с маленькой ‒ сообщение \"Это имя нарицательное\"."
   ]
  },
  {
   "cell_type": "code",
   "execution_count": 16,
   "metadata": {},
   "outputs": [
    {
     "name": "stdout",
     "output_type": "stream",
     "text": [
      "Введите существительное: Собака\n",
      "Это имя собственное.\n"
     ]
    }
   ],
   "source": [
    "s = input('Введите существительное: ')\n",
    "if s.islower() == False:\n",
    "  print('Это имя собственное.')\n",
    "else:\n",
    "  print('Это имя нарицательное.')"
   ]
  }
 ],
 "metadata": {
  "kernelspec": {
   "display_name": "Python 3",
   "language": "python",
   "name": "python3"
  },
  "language_info": {
   "codemirror_mode": {
    "name": "ipython",
    "version": 3
   },
   "file_extension": ".py",
   "mimetype": "text/x-python",
   "name": "python",
   "nbconvert_exporter": "python",
   "pygments_lexer": "ipython3",
   "version": "3.6.13"
  }
 },
 "nbformat": 4,
 "nbformat_minor": 2
}
