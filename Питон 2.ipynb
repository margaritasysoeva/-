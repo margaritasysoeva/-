{
  "cells": [
    {
      "cell_type": "markdown",
      "metadata": {
        "id": "IYXfjsX93JGj"
      },
      "source": [
        "### Задание 0 (разминка)\n",
        "\n",
        "Даны два списка `a` и `b` (см. ниже).\n",
        "    \n",
        "1. Выведите на экран первый элемент списка `a`, третий элемент списка `a`, последний элемент списка `a`.\n",
        "2. Добавьте в список `b` элемент 7 (просто допишите в конец).\n",
        "3. Замените пятый элемент списка `a` на число 8.\n",
        "4. Создайте список `merged`, который включает в себя все элементы списка `a` и списка `b`.\n",
        "5. Создайте новый список `с`, который получается заменой последнего элемента списка `a` на число 100. Сам список `a` измениться не должен!"
      ]
    },
    {
      "cell_type": "code",
      "execution_count": null,
      "metadata": {
        "id": "INRriBT73JGo"
      },
      "outputs": [],
      "source": [
        "a = [1, 0, 9, 12, 18, 34, 89, 91, 33, 127]\n",
        "b = [2, 8, 9, 11, 76, 25, 44]"
      ]
    },
    {
      "cell_type": "code",
      "source": [
        "a = [1, 0, 9, 12, 18, 34, 89, 91, 33, 127]\n",
        "b = [2, 8, 9, 11, 76, 25, 44]\n",
        "\n",
        "print(a[0],a[2],a[len(a)-1]) #1\n",
        "\n",
        "\n",
        "b.append(7)                  #2\n",
        "print('b:',b)\n",
        "\n",
        "\n",
        "a[4]=8                       #3\n",
        "print('a:',a)\n",
        "\n",
        "\n",
        "merged = a+b                 #4\n",
        "print('merged:',merged)\n",
        "\n",
        "\n",
        "c=a.copy()                   #5\n",
        "c[len(c)-1]=100\n",
        "print('c:',c,'a:',a)"
      ],
      "metadata": {
        "colab": {
          "base_uri": "https://localhost:8080/"
        },
        "id": "vKlN2Y5B3PAd",
        "outputId": "8c05424a-2fc0-4e49-c6e9-b6850d9ac44e"
      },
      "execution_count": 19,
      "outputs": [
        {
          "output_type": "stream",
          "name": "stdout",
          "text": [
            "1 9 127\n",
            "b: [2, 8, 9, 11, 76, 25, 44, 7]\n",
            "a: [1, 0, 9, 12, 8, 34, 89, 91, 33, 127]\n",
            "merged: [1, 0, 9, 12, 8, 34, 89, 91, 33, 127, 2, 8, 9, 11, 76, 25, 44, 7]\n",
            "c: [1, 0, 9, 12, 8, 34, 89, 91, 33, 100] a: [1, 0, 9, 12, 8, 34, 89, 91, 33, 127]\n"
          ]
        }
      ]
    },
    {
      "cell_type": "markdown",
      "metadata": {
        "id": "Hryu1eXp3JGr"
      },
      "source": [
        "### Задание 1 (девочковое)\n",
        "\n",
        "Есть список имен:"
      ]
    },
    {
      "cell_type": "code",
      "execution_count": null,
      "metadata": {
        "id": "cpk9kvpQ3JGr"
      },
      "outputs": [],
      "source": [
        "girls = [\"Иветта\", \"Виолетта\", \"Кассандра\", \"Вирджиния\", \n",
        "         \"Амелия\", \"Розамунда\", \"Янина\", \"Беатриса\"]"
      ]
    },
    {
      "cell_type": "markdown",
      "metadata": {
        "id": "1XTnw6KA3JGs"
      },
      "source": [
        "Используя список `girls`, выведите на экран следующие списки:\n",
        "\n",
        "    [\"Виолетта\", \"Кассандра\", \"Вирджиния\", \"Амелия\"]\n",
        "    [\"Вирджиния\", \"Амелия\", \"Розамунда\", \"Янина\", \"Беатриса\"]\n",
        "    [\"Иветта\", \"Виолетта\", \"Вирджиния\", \"Амелия\"]\n",
        "    [\"Кассандра\", \"Амелия\", \"Розамунда\"]"
      ]
    },
    {
      "cell_type": "code",
      "source": [
        "girls = [\"Иветта\", \"Виолетта\", \"Кассандра\", \"Вирджиния\", \"Амелия\", \"Розамунда\", \"Янина\", \"Беатриса\"]\n",
        "a=girls[1:5]\n",
        "print(a)\n",
        "b=girls[3:]\n",
        "print(b)\n",
        "c=girls[0:2]+girls[3:5]\n",
        "print(c)\n",
        "d=girls[2:3]+girls[4:6]\n",
        "print(d)"
      ],
      "metadata": {
        "colab": {
          "base_uri": "https://localhost:8080/"
        },
        "id": "TTHFI9LY39j-",
        "outputId": "ea6e01c9-312c-4264-c7c8-55a0b60b88c8"
      },
      "execution_count": 18,
      "outputs": [
        {
          "output_type": "stream",
          "name": "stdout",
          "text": [
            "['Виолетта', 'Кассандра', 'Вирджиния', 'Амелия']\n",
            "['Вирджиния', 'Амелия', 'Розамунда', 'Янина', 'Беатриса']\n",
            "['Иветта', 'Виолетта', 'Вирджиния', 'Амелия']\n",
            "['Кассандра', 'Амелия', 'Розамунда']\n"
          ]
        }
      ]
    },
    {
      "cell_type": "code",
      "execution_count": null,
      "metadata": {
        "id": "Np4FC8tq3JGt",
        "outputId": "afe8b929-22a8-4b7a-cf4d-4a60dcb2c900"
      },
      "outputs": [
        {
          "name": "stdout",
          "output_type": "stream",
          "text": [
            "['Вирджиния', 'Амелия', 'Розамунда', 'Янина', 'Беатриса']\n"
          ]
        }
      ],
      "source": [
        "print(girls[3:])"
      ]
    },
    {
      "cell_type": "markdown",
      "metadata": {
        "id": "6dbURdfN3JGu"
      },
      "source": [
        "### Задание 2 (поэлементное) \n",
        "\n",
        "Дан список `L`. Выведите на экран (последовательно, с новой строчки): \n",
        "\n",
        "* все элементы списка `L`\n",
        "* логарифмированные значения элементов списка `L`"
      ]
    },
    {
      "cell_type": "code",
      "execution_count": null,
      "metadata": {
        "id": "pVxwfy093JGv"
      },
      "outputs": [],
      "source": [
        "L = [12, 3, 8, 125, 10, 98, 54, 199]"
      ]
    },
    {
      "cell_type": "code",
      "execution_count": null,
      "metadata": {
        "id": "CpLB6I3V3JGw",
        "outputId": "45721d69-2eb8-4791-9c88-1b7313e21ea7"
      },
      "outputs": [
        {
          "name": "stdout",
          "output_type": "stream",
          "text": [
            "12\n",
            "3\n",
            "8\n",
            "125\n",
            "10\n",
            "98\n",
            "54\n",
            "199\n"
          ]
        }
      ],
      "source": [
        "for i in L:\n",
        "    print(i)"
      ]
    },
    {
      "cell_type": "code",
      "source": [
        "L = [12, 3, 8, 125, 10, 98, 54, 199]\n",
        "import math\n",
        "for i in L:\n",
        "    a=math.log(i)\n",
        "    print(i,a)"
      ],
      "metadata": {
        "colab": {
          "base_uri": "https://localhost:8080/"
        },
        "id": "Nnf_LwJ768Y9",
        "outputId": "899e3ec7-a14f-4c59-c0cc-e22833b29cd3"
      },
      "execution_count": 20,
      "outputs": [
        {
          "output_type": "stream",
          "name": "stdout",
          "text": [
            "12 2.4849066497880004\n",
            "3 1.0986122886681098\n",
            "8 2.0794415416798357\n",
            "125 4.8283137373023015\n",
            "10 2.302585092994046\n",
            "98 4.584967478670572\n",
            "54 3.9889840465642745\n",
            "199 5.293304824724492\n"
          ]
        }
      ]
    },
    {
      "cell_type": "markdown",
      "metadata": {
        "id": "8sM5OmuQ3JGw"
      },
      "source": [
        "Замените пятый элемент списка `L` на 0. Проделайте те же операции, что и раньше. Объясните, почему получаются такие результаты."
      ]
    },
    {
      "cell_type": "code",
      "source": [
        "L = [12, 3, 8, 125, 10, 98, 54, 199]\n",
        "L[4]=0\n",
        "import math\n",
        "for i in L:\n",
        "    a= math.log(i)\n",
        "    print(i,a)"
      ],
      "metadata": {
        "colab": {
          "base_uri": "https://localhost:8080/",
          "height": 288
        },
        "id": "Ilx9HJpN7HBN",
        "outputId": "e8af1693-df71-48a3-82f7-4bc4132bd081"
      },
      "execution_count": 21,
      "outputs": [
        {
          "output_type": "stream",
          "name": "stdout",
          "text": [
            "12 2.4849066497880004\n",
            "3 1.0986122886681098\n",
            "8 2.0794415416798357\n",
            "125 4.8283137373023015\n"
          ]
        },
        {
          "output_type": "error",
          "ename": "ValueError",
          "evalue": "ignored",
          "traceback": [
            "\u001b[0;31m---------------------------------------------------------------------------\u001b[0m",
            "\u001b[0;31mValueError\u001b[0m                                Traceback (most recent call last)",
            "\u001b[0;32m<ipython-input-21-50c9dce517e0>\u001b[0m in \u001b[0;36m<module>\u001b[0;34m()\u001b[0m\n\u001b[1;32m      3\u001b[0m \u001b[0;32mimport\u001b[0m \u001b[0mmath\u001b[0m\u001b[0;34m\u001b[0m\u001b[0;34m\u001b[0m\u001b[0m\n\u001b[1;32m      4\u001b[0m \u001b[0;32mfor\u001b[0m \u001b[0mi\u001b[0m \u001b[0;32min\u001b[0m \u001b[0mL\u001b[0m\u001b[0;34m:\u001b[0m\u001b[0;34m\u001b[0m\u001b[0;34m\u001b[0m\u001b[0m\n\u001b[0;32m----> 5\u001b[0;31m     \u001b[0ma\u001b[0m\u001b[0;34m=\u001b[0m\u001b[0mmath\u001b[0m\u001b[0;34m.\u001b[0m\u001b[0mlog\u001b[0m\u001b[0;34m(\u001b[0m\u001b[0mi\u001b[0m\u001b[0;34m)\u001b[0m\u001b[0;34m\u001b[0m\u001b[0;34m\u001b[0m\u001b[0m\n\u001b[0m\u001b[1;32m      6\u001b[0m     \u001b[0mprint\u001b[0m\u001b[0;34m(\u001b[0m\u001b[0mi\u001b[0m\u001b[0;34m,\u001b[0m\u001b[0ma\u001b[0m\u001b[0;34m)\u001b[0m\u001b[0;34m\u001b[0m\u001b[0;34m\u001b[0m\u001b[0m\n",
            "\u001b[0;31mValueError\u001b[0m: math domain error"
          ]
        }
      ]
    },
    {
      "cell_type": "markdown",
      "metadata": {
        "id": "9S3i-Q0g3JGx"
      },
      "source": [
        "### Задание 3 (демографическое)\n",
        "\n",
        "В списке `age` сохранены значения возраста респондентов: \n",
        "\n",
        "    age = [24, 35, 42, 27, 45, 48, 33]\n",
        "    \n",
        "Создайте список `age2`, в котором будут храниться значения возраста, возведенные в квадрат.\n",
        "\n",
        "**Подсказка:** используйте цикл *for*."
      ]
    },
    {
      "cell_type": "code",
      "execution_count": null,
      "metadata": {
        "id": "Va760Zbk3JGx"
      },
      "outputs": [],
      "source": [
        "age = [24, 35, 42, 27, 45, 48, 33]\n",
        "age1 = []"
      ]
    },
    {
      "cell_type": "code",
      "execution_count": 24,
      "metadata": {
        "colab": {
          "base_uri": "https://localhost:8080/"
        },
        "id": "YfhkND553JGy",
        "outputId": "1d2216a3-648f-4442-8bca-a51ae2c77916"
      },
      "outputs": [
        {
          "output_type": "stream",
          "name": "stdout",
          "text": [
            "24\n",
            "35\n",
            "42\n",
            "27\n",
            "45\n",
            "48\n",
            "33\n"
          ]
        }
      ],
      "source": [
        "age = [24, 35, 42, 27, 45, 48, 33]\n",
        "age1 = []\n",
        "for i in age:\n",
        "    age1.append(i*i)\n",
        "    print(i)"
      ]
    },
    {
      "cell_type": "code",
      "source": [
        "age = [24, 35, 42, 27, 45, 48, 33]\n",
        "age2 = []\n",
        "j=0\n",
        "for i in age:\n",
        "    age2.append(i*i)\n",
        "    print(i, age2[j])\n",
        "    j=j+1\n",
        "print(age2)"
      ],
      "metadata": {
        "colab": {
          "base_uri": "https://localhost:8080/"
        },
        "id": "1gbVXzZG7Z3m",
        "outputId": "b8e4f987-315e-43dd-b976-0f005f2684db"
      },
      "execution_count": 22,
      "outputs": [
        {
          "output_type": "stream",
          "name": "stdout",
          "text": [
            "24 576\n",
            "35 1225\n",
            "42 1764\n",
            "27 729\n",
            "45 2025\n",
            "48 2304\n",
            "33 1089\n",
            "[576, 1225, 1764, 729, 2025, 2304, 1089]\n"
          ]
        }
      ]
    },
    {
      "cell_type": "markdown",
      "metadata": {
        "id": "klGWvzSU3JGy"
      },
      "source": [
        "### Задание 4 (игровое)\n",
        "\n",
        "Питон просит пользователя загадать (ввести с клавиатуры) целое число $k$ от 1 до 10. Питон берет это число $k$ и выводит на экран $k$-тый элемент списка `numbers`, причем $k$-ый элемент в привычном понимании, в нумерации, которая начинается с единицы.  \n",
        "\n",
        "Список `numbers`:"
      ]
    },
    {
      "cell_type": "code",
      "execution_count": null,
      "metadata": {
        "id": "wTyjSCQd3JGy"
      },
      "outputs": [],
      "source": [
        "numbers = [1, 5, 6, 8, 10, 21, 25, 1, 0, -9, 9]"
      ]
    },
    {
      "cell_type": "markdown",
      "metadata": {
        "id": "mXrFfM-93JGz"
      },
      "source": [
        "**Пояснение:**\n",
        "    \n",
        "*Входные данные:*\n",
        "\n",
        "    Введите целое число от 1 до 10: 3\n",
        "    \n",
        "*Выходные данные:*\n",
        "\n",
        "    6"
      ]
    },
    {
      "cell_type": "code",
      "source": [
        "numbers = [1, 5, 6, 8, 10, 21, 25, 1, 0, -9, 9]\n",
        "i = int(input('Введите целое число от 1 до 10:'))\n",
        "print(numbers[i-1])"
      ],
      "metadata": {
        "colab": {
          "base_uri": "https://localhost:8080/"
        },
        "id": "AyyB9gtq75el",
        "outputId": "b520089a-0dd5-4fbb-85d9-7c722eba4ab1"
      },
      "execution_count": 26,
      "outputs": [
        {
          "output_type": "stream",
          "name": "stdout",
          "text": [
            "Введите целое число от 1 до 10:3\n",
            "6\n"
          ]
        }
      ]
    },
    {
      "cell_type": "markdown",
      "metadata": {
        "id": "5e7z-yr43JGz"
      },
      "source": [
        "### Задание 5 (числовое)\n",
        "\n",
        "У питона есть набор любимых чисел.\n",
        "\n",
        "    favorites = [3, 7, 11, 23, 18, 48, 81]\n",
        "\n",
        "Напишите программу, которая просит пользователя ввести целое число, и если оно нравится питону, на экран будет выводиться сообщение: \"Мое любимое число!\", если нет ‒ \"Эх, ну почему?\".\n",
        "\n",
        "*Подсказка:* чтобы проверить, принадлежит ли некоторый объект элементам списка, можно воспользоваться оператором *in*."
      ]
    },
    {
      "cell_type": "code",
      "source": [
        "favorites = [3, 7, 11, 23, 18, 48, 81]\n",
        "Num = int(input('Введите целое число: '))\n",
        "if Num in favorites:\n",
        "    print('Моё любимое число!')\n",
        "else:\n",
        "    print('Эх, ну почему?')"
      ],
      "metadata": {
        "colab": {
          "base_uri": "https://localhost:8080/"
        },
        "id": "7BqqP70f8M7W",
        "outputId": "6d52e6cd-5c8e-4bd8-be67-2b15fb3b683a"
      },
      "execution_count": 28,
      "outputs": [
        {
          "output_type": "stream",
          "name": "stdout",
          "text": [
            "Введите целое число: 7\n",
            "Моё любимое число!\n"
          ]
        }
      ]
    },
    {
      "cell_type": "markdown",
      "metadata": {
        "id": "5S6A-Gdh3JGz"
      },
      "source": [
        "### Задание 6 (четное)\n",
        "\n",
        "Напишите программу, которая просит пользователя ввести число и, если оно чётное, выводит на экран сообщение: \"Это число чётное\", если нечётное ‒ \"Это число нечётное\".\n",
        "\n",
        "*Подсказка:* используйте оператор `%` для определения остатка от деления."
      ]
    },
    {
      "cell_type": "code",
      "source": [
        "a = int(input('Введите целое число: '))\n",
        "if a % 2 == 1:\n",
        "    print(\"Это число нечётное\")\n",
        "else:\n",
        "    print(\"Это число чётное\")"
      ],
      "metadata": {
        "colab": {
          "base_uri": "https://localhost:8080/"
        },
        "id": "GaDS-vW98jPw",
        "outputId": "ce89bf56-3758-4dad-c9cd-b7f8a5c8e9a2"
      },
      "execution_count": 29,
      "outputs": [
        {
          "output_type": "stream",
          "name": "stdout",
          "text": [
            "Введите целое число: 7\n",
            "Это число нечётное\n"
          ]
        }
      ]
    },
    {
      "cell_type": "markdown",
      "metadata": {
        "id": "GHgPZpSv3JG0"
      },
      "source": [
        "### Задание 7 (музыкальное)\n",
        "\n",
        "Напишите программу, которая принимает на вход список слов такого вида:\n",
        "\n",
        "    words = [\"Speak \",\"to\", \"me \", \"of\", \"Florence\" ,\"And \", \"of\", \"the\", \"Renaissance\"]\n",
        "\n",
        "а возвращает список\n",
        "\n",
        "    words_clean = [\"speak\", \"to\", \"me\", \"of\", \"florence\", \"and\", \"of\", \"the\", \"renaissance\"]\n",
        "\n",
        "Другими словами, программа убирает пробелы в словах и приводит все слова к нижнему регистру. Эту задачу можно решить через циклы, но в Python есть такая полезная вещь как списковые включения. Они работают быстрее, чем циклы, и создавать новые списки на основе старых очень удобно. Прочитать про них можно [здесь](http://pythontutor.ru/lessons/lists/#section_3) и [здесь](https://nbviewer.jupyter.org/github/allatambov/Py-programming-3/blob/master/20-04/lecture-lists-contd.ipynb).\n",
        "\n",
        "**Подсказка:** запросите `help()`  по  методам `.strip()` и `.lower()`."
      ]
    },
    {
      "cell_type": "code",
      "source": [
        "words = [\"Speak \",\"to\", \"me \", \"of\", \"Florence\" ,\"And \", \"of\", \"the\", \"Renaissance\"]\n",
        "words_clean = [i.lower() for i in words]\n",
        "print('words_clean =', words_clean)"
      ],
      "metadata": {
        "colab": {
          "base_uri": "https://localhost:8080/"
        },
        "id": "5LDUCt_2_QUd",
        "outputId": "3d2197ea-c3f4-48c4-af37-ac73132239be"
      },
      "execution_count": 30,
      "outputs": [
        {
          "output_type": "stream",
          "name": "stdout",
          "text": [
            "words_clean = ['speak ', 'to', 'me ', 'of', 'florence', 'and ', 'of', 'the', 'renaissance']\n"
          ]
        }
      ]
    },
    {
      "cell_type": "markdown",
      "metadata": {
        "id": "b9lBK_I93JG0"
      },
      "source": [
        "### Задание 8 (секретное)\n",
        "\n",
        "Напишите программу, которая запрашивает у пользователя пароль, и далее:\n",
        "\n",
        "- если пароль верный, выводит на экран сообщение \"Login success\".\n",
        "- если пароль неверный, выводит на экран сообщение \"Incorrect password, try again!\" до тех пор, пока пользователь не введет верный пароль.\n",
        "\n",
        "Считайте, что верный пароль программе известен, то есть уже сохранен в некоторой переменной. "
      ]
    },
    {
      "cell_type": "code",
      "source": [
        "password = '112334'\n",
        "a = input()\n",
        "while a != password:\n",
        "  print('Incorrect password, try again!')\n",
        "  a = input()\n",
        "if a == password:\n",
        "    print('Login success')"
      ],
      "metadata": {
        "colab": {
          "base_uri": "https://localhost:8080/"
        },
        "id": "YIxgUgXv_yN1",
        "outputId": "8ba6e00b-b645-4ab4-9b7a-c3421d4e2535"
      },
      "execution_count": 32,
      "outputs": [
        {
          "output_type": "stream",
          "name": "stdout",
          "text": [
            "334223\n",
            "Incorrect password, try again!\n",
            "112334\n",
            "Login success\n"
          ]
        }
      ]
    },
    {
      "cell_type": "markdown",
      "metadata": {
        "id": "CnkOFpCT3JG0"
      },
      "source": [
        "### Задание 9 (функциональное)\n",
        "\n",
        "Напишите функцию `nums()`, которая принимает на вход целое число, а возвращает список из двух элементов: целое число, предшествующее принятому на вход, и число, следующее за ним.\n",
        "\n",
        "**Пример:**\n",
        "\n",
        "*Входные данные:*\n",
        "\n",
        "    7\n",
        "\n",
        "*Выходные данные:*\n",
        "\n",
        "    [6, 8]"
      ]
    },
    {
      "cell_type": "code",
      "source": [
        "z = []\n",
        "a = int(input())\n",
        "def nums(a):\n",
        "  z.append(a-1)\n",
        "  z.append(a+1)\n",
        "  return z\n",
        "print(nums(a))"
      ],
      "metadata": {
        "colab": {
          "base_uri": "https://localhost:8080/"
        },
        "id": "JlAdktNqAjeZ",
        "outputId": "ccfc375d-c4ef-41c3-a9bc-3af38ce1cbcc"
      },
      "execution_count": 33,
      "outputs": [
        {
          "output_type": "stream",
          "name": "stdout",
          "text": [
            "7\n",
            "[6, 8]\n"
          ]
        }
      ]
    },
    {
      "cell_type": "markdown",
      "metadata": {
        "id": "OMSahtCs3JG1"
      },
      "source": [
        "### Задание 10 (счетное)\n",
        "\n",
        "Напишите функцию `my_log()`, которая принимает на вход список чисел, и возвращает список их натуральных логарифмов. Если число меньше или равно 0, на его месте в возвращаемом списке должно быть None.\n",
        "\n",
        "**Пример:**\n",
        "\n",
        "*Входные данные:*\n",
        "\n",
        "    [1, 3, 2.5, -1, 9, 0, 2.71]\n",
        "\n",
        "*Выходные данные:*\n",
        "\n",
        "    [0.0,\n",
        "     1.0986122886681098,\n",
        "     0.9162907318741551,\n",
        "     None,\n",
        "     2.1972245773362196,\n",
        "     None,\n",
        "     0.9969486348916096]"
      ]
    },
    {
      "cell_type": "code",
      "source": [
        "import math\n",
        "a = [1, 3, 2.5, -1, 9, 0, 2.71]\n",
        "b = []\n",
        "def my_log():\n",
        "  for i in a:\n",
        "   if i <= 0:\n",
        "     b.append('None')\n",
        "   else:\n",
        "      b.append(math.log(i))\n",
        "  return b\n",
        "print(my_log())"
      ],
      "metadata": {
        "colab": {
          "base_uri": "https://localhost:8080/"
        },
        "id": "ffGqSekCAsNJ",
        "outputId": "2e761d26-6125-42b1-a5b9-e5d138735f4c"
      },
      "execution_count": 34,
      "outputs": [
        {
          "output_type": "stream",
          "name": "stdout",
          "text": [
            "[0.0, 1.0986122886681098, 0.9162907318741551, 'None', 2.1972245773362196, 'None', 0.9969486348916096]\n"
          ]
        }
      ]
    },
    {
      "cell_type": "markdown",
      "metadata": {
        "id": "yqFZco9z3JG1"
      },
      "source": [
        "### Задание 11 (зимнее)\n",
        "\n",
        "Напишите функцию `str_lower()`, которая принимает на вход строку (набор слов через пробел), а возвращает список ее элементов в нижнем регистре. \n",
        "\n",
        "**Пример:**\n",
        "\n",
        "*Входные данные:*\n",
        "\n",
        "    \"В лесу родилась ёлочка В лесу она росла\"\n",
        "\n",
        "*Выходные данные:*\n",
        "\n",
        "    ['в', 'лесу', 'родилась', 'ёлочка', 'в', 'лесу', 'она', 'росла']\n",
        "    \n",
        "*Подсказка:* для разбиение строки на части, познакомьтесь с методом `.split()` – запросите по нему `help()`."
      ]
    },
    {
      "cell_type": "code",
      "source": [
        "a = input().split()\n",
        "def str_lower(): \n",
        "  return [i.lower() for i in a]\n",
        "print(str_lower())"
      ],
      "metadata": {
        "colab": {
          "base_uri": "https://localhost:8080/"
        },
        "id": "9_xVd9bnAxuR",
        "outputId": "8abb6cd0-6164-4a8f-c624-5fb2307c61e2"
      },
      "execution_count": 35,
      "outputs": [
        {
          "output_type": "stream",
          "name": "stdout",
          "text": [
            "В лесу Родилась елочка в Лесу она росла\n",
            "['в', 'лесу', 'родилась', 'елочка', 'в', 'лесу', 'она', 'росла']\n"
          ]
        }
      ]
    }
  ],
  "metadata": {
    "kernelspec": {
      "display_name": "Python 3",
      "language": "python",
      "name": "python3"
    },
    "language_info": {
      "codemirror_mode": {
        "name": "ipython",
        "version": 3
      },
      "file_extension": ".py",
      "mimetype": "text/x-python",
      "name": "python",
      "nbconvert_exporter": "python",
      "pygments_lexer": "ipython3",
      "version": "3.6.5"
    },
    "colab": {
      "name": "2 - seminar2.ipynb",
      "provenance": []
    }
  },
  "nbformat": 4,
  "nbformat_minor": 0
}