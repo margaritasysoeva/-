{
  "cells": [
    {
      "cell_type": "markdown",
      "metadata": {
        "id": "knHhRoie6wDx"
      },
      "source": [
        "### Задание 0 (вычислительное)\n",
        "\n",
        "Посчитайте:\n",
        "\n",
        "* $log(25)$, $log(exp(3))$, $log_{10}1000$\n",
        "* $\\pi^3$, $123^4$ \n",
        "* $\\sqrt{459}$"
      ]
    },
    {
      "cell_type": "code",
      "source": [
        "import math\n",
        "x = math.log(25)\n",
        "print ('log(25) = ', x)\n",
        "y = math.exp(3)\n",
        "y1 = math.log(y)\n",
        "print ('log(exp(3)) = ', y1)\n",
        "z = math.log10(1000)\n",
        "print ('log10(1000) = ', z)\n",
        "\n",
        "a = math.pi\n",
        "a1 = a**3\n",
        "print ('pi^3=', a1)\n",
        "q = math.pow(123,4)\n",
        "print ('123^4=', q)\n",
        "\n",
        "q1 = math.pow(459, 0.5)\n",
        "print('корень из 459 = ', q1)"
      ],
      "metadata": {
        "colab": {
          "base_uri": "https://localhost:8080/"
        },
        "id": "x8VqFp8O8g07",
        "outputId": "c8e1f5de-05b5-4da4-b028-c02b0941676e"
      },
      "execution_count": 13,
      "outputs": [
        {
          "output_type": "stream",
          "name": "stdout",
          "text": [
            "log(25) =  3.2188758248682006\n",
            "log(exp(3)) =  3.0\n",
            "log10(1000) =  3.0\n",
            "pi^3= 31.006276680299816\n",
            "123^4= 228886641.0\n",
            "корень из 459 =  21.42428528562855\n"
          ]
        }
      ]
    },
    {
      "cell_type": "markdown",
      "metadata": {
        "id": "CWvnGCYZ6wD0"
      },
      "source": [
        "### Задание 1 (стартовое)\n",
        "\n",
        "В переменных `a` и `b` хранятся некоторые числа. Напишите код, который бы менял значения переменных местами. Создавать новые переменные можно. \n",
        "\n",
        "**Пример:**"
      ]
    },
    {
      "cell_type": "code",
      "execution_count": null,
      "metadata": {
        "id": "u92gid-X6wD1"
      },
      "outputs": [],
      "source": [
        "# до\n",
        "a = 2\n",
        "b = 5"
      ]
    },
    {
      "cell_type": "code",
      "execution_count": 15,
      "metadata": {
        "colab": {
          "base_uri": "https://localhost:8080/"
        },
        "id": "wkrkPPMK6wD2",
        "outputId": "b74f2ccb-51c6-432a-fc64-bc3898037380"
      },
      "outputs": [
        {
          "output_type": "stream",
          "name": "stdout",
          "text": [
            "5 2\n"
          ]
        }
      ],
      "source": [
        "a = 2\n",
        "b = 5 \n",
        "c = a\n",
        "a = b\n",
        "b = c\n",
        "print(a, b)\n"
      ]
    },
    {
      "cell_type": "code",
      "execution_count": null,
      "metadata": {
        "id": "kpIauqiw6wD3"
      },
      "outputs": [],
      "source": [
        "# после\n",
        "print(a)\n",
        "print(b)"
      ]
    },
    {
      "cell_type": "markdown",
      "metadata": {
        "id": "xrm_k3kK6wD4"
      },
      "source": [
        "### Задание 2 (арифметическое)\n",
        "\n",
        "В переменных `a`, `b`, `c` хранятся какие-то числа. Напишите программу, которая считает их среднее арифметическое."
      ]
    },
    {
      "cell_type": "code",
      "execution_count": null,
      "metadata": {
        "id": "PQT64evV6wD4"
      },
      "outputs": [],
      "source": [
        "a = 1\n",
        "b = 2\n",
        "c = 3"
      ]
    },
    {
      "cell_type": "code",
      "execution_count": 4,
      "metadata": {
        "colab": {
          "base_uri": "https://localhost:8080/"
        },
        "id": "XsU0sF9f6wD5",
        "outputId": "0a38c69e-bd7e-4f85-c3c4-16b4146d90fa"
      },
      "outputs": [
        {
          "output_type": "stream",
          "name": "stdout",
          "text": [
            "2.0\n"
          ]
        }
      ],
      "source": [
        "z = (1, 2, 3)\n",
        "print(sum(z)/len(z))"
      ]
    },
    {
      "cell_type": "markdown",
      "metadata": {
        "id": "Gg_d0p6y6wD5"
      },
      "source": [
        "### Задание 3 (экономическое)\n",
        "\n",
        "Напишите программу, которая логарифмирует значение ВВП, которое хранится в переменной `gdp` и округляет результат до второго знака после запятой."
      ]
    },
    {
      "cell_type": "code",
      "source": [
        "import math\n",
        "gdp = math.log(1483000000000)\n",
        "print(round(gdp,2))\n"
      ],
      "metadata": {
        "colab": {
          "base_uri": "https://localhost:8080/"
        },
        "id": "thZ6TfCx8MWs",
        "outputId": "2e67866c-4cb3-4f15-ac5e-f9da4225eac0"
      },
      "execution_count": 27,
      "outputs": [
        {
          "output_type": "stream",
          "name": "stdout",
          "text": [
            "28.03\n"
          ]
        }
      ]
    },
    {
      "cell_type": "markdown",
      "metadata": {
        "id": "RSjm2rNi6wD6"
      },
      "source": [
        "###  Задание 3 (финансовое)\n",
        "\n",
        "В переменной `salary` хранится значение заработной платы респондента в рублях (можете сами присвоить `salary` какое-нибудь значение).\n",
        "\n",
        "Напишите программу, которая выражает заработную плату респондента в тысячах рублей и\n",
        "\n",
        "a) просто выводит результат перевода в тысячи на экран;\n",
        "\n",
        "б) просто сохраняет результат в переменную `salary_th`;\n",
        "\n",
        "в) сохраняет результат в переменную `salary_th` и выводит результат на экран."
      ]
    },
    {
      "cell_type": "code",
      "source": [
        "salary = 21000\n",
        "salary_th = salary // 1000\n",
        "print ('Ваша заработная плата', salary_th, 'тыс.руб.')\n"
      ],
      "metadata": {
        "colab": {
          "base_uri": "https://localhost:8080/"
        },
        "id": "bGmrlwkqDbRN",
        "outputId": "72624cdd-8f07-4947-ff63-eabc84ca5cce"
      },
      "execution_count": 40,
      "outputs": [
        {
          "output_type": "stream",
          "name": "stdout",
          "text": [
            "Ваша заработная плата 21 тыс.руб.\n"
          ]
        }
      ]
    },
    {
      "cell_type": "markdown",
      "metadata": {
        "id": "zwl0f6Vr6wD6"
      },
      "source": [
        "### Задание 4 (политологическое)\n",
        "\n",
        "В переменной `fh` хранится значение индекса политической свободы Freedom House, а в переменной `p`\n",
        "значение индекса Polity IV. Напишите программу, которая будет считать индекс Freedom:\n",
        "\n",
        "$Freedom = 0.4 \\cdot Freedom House + 0.6 \\cdot Polity IV$."
      ]
    },
    {
      "cell_type": "code",
      "source": [
        "fh= 20\n",
        "piv= 4\n",
        "fd = (0.4*fh)+(0.6*piv)\n",
        "print(fd)"
      ],
      "metadata": {
        "colab": {
          "base_uri": "https://localhost:8080/"
        },
        "id": "ba46HVwOGJM9",
        "outputId": "c9456641-01be-47dc-a828-6a2d6d7a745d"
      },
      "execution_count": 41,
      "outputs": [
        {
          "output_type": "stream",
          "name": "stdout",
          "text": [
            "10.4\n"
          ]
        }
      ]
    },
    {
      "cell_type": "markdown",
      "metadata": {
        "id": "QuaJDU8H6wD7"
      },
      "source": [
        "### Задание 5 (налоговое)\n",
        "\n",
        "Напишите программу, которая запрашивает у пользователя с клавиатуры\n",
        "изначальное значение заработной платы в рублях и выводит на экран сообщение: \n",
        "\n",
        "    Ваша заработная плата с учетом подоходного налога: n рублей.\n",
        "\n",
        "где `n` ‒ значение заработной платы с учетом подоходного налога (налоговая ставка 13%).\n",
        "\n",
        "Подсказка: для ввода информации с клавиатуры используйте функцию `input()`. Не забудьте учесть, что результат, который вводится через `input()` является строкой, а не числом. Примеры использования `input()` и более подробное знакомство с вводом-выводом в Python – см. [здесь](https://nbviewer.jupyter.org/github/allatambov/Py-programming-3/blob/master/06-04/lecture-input-output.ipynb)."
      ]
    },
    {
      "cell_type": "code",
      "source": [
        "z = int(input('Введите вашу зп: '))\n",
        "y = z-(z*0.13)\n",
        "print('Ваша заработная плата с учетом подоходного налога:', y, 'рублей.')"
      ],
      "metadata": {
        "colab": {
          "base_uri": "https://localhost:8080/"
        },
        "id": "XQFK6T3LDmYl",
        "outputId": "10af4a4d-13fe-492e-8097-4540ed1b9c5a"
      },
      "execution_count": 45,
      "outputs": [
        {
          "output_type": "stream",
          "name": "stdout",
          "text": [
            "Введите вашу зп: 12000\n",
            "Ваша заработная плата с учетом подоходного налога: 10440.0 рублей.\n"
          ]
        }
      ]
    },
    {
      "cell_type": "markdown",
      "metadata": {
        "id": "GRg219an6wD8"
      },
      "source": [
        "### Задание 6 (весеннее)\n",
        "\n",
        "С приходом весны питон решил каждый день выползать погреться на солнышко. Однако он знал, что солнце весной довольно активное, и поэтому разработал такую схему: в первый день он греется одну минуту, а в каждый последующий день увеличивает время пребывания на солнце на 3 минуты. Напишите код, который позволит вычислять, сколько минут питон будет тратить на солнечные ванны в некоторый выбранный день.\n",
        "\n",
        "*Внимание:* ваш код должен выводить номер дня и число минут. Использовать циклы нельзя, в задании предполагается многократный запуск ячеек с кодом."
      ]
    },
    {
      "cell_type": "code",
      "source": [
        "a = int(input('Введите день '))\n",
        "b = 3\n",
        "(print('День', a, 'Минуты', 1+b*(a-1)))"
      ],
      "metadata": {
        "colab": {
          "base_uri": "https://localhost:8080/"
        },
        "id": "EORQfsGQHl7r",
        "outputId": "5fa662dc-19fb-4a0e-96d2-030485e0b792"
      },
      "execution_count": 52,
      "outputs": [
        {
          "output_type": "stream",
          "name": "stdout",
          "text": [
            "Введите день 1\n",
            "День 1 Минуты 1\n"
          ]
        }
      ]
    },
    {
      "cell_type": "markdown",
      "metadata": {
        "id": "qceP03FN6wD8"
      },
      "source": [
        "### Задание 7 (цифровое)\n",
        "\n",
        "Питон выполз на улицу погулять и решил поиграть: просил прохожих назвать какую-нибудь цифру (т.е. ввести ее с клавиатуры) и приписывал эту цифру к цифре, которую назвал предыдущий прохожий. Напишите код, который позволит определить, какое число получится после опроса 4 прохожих, если известно, что первый прохожий назвал цифру 5. \n",
        "Задача не подразумевает использование циклов; запускать код несколько раз / копировать ячейки можно.\n",
        "\n",
        "*Пример-пояснение:* первый назвал цифру 5, второй ‒ цифру 6, третий ‒ 3. Получили число 563.\n",
        "\n",
        "*Подсказка:* для склеивания строк (такая операция называется конкатенацией) в Python используется `+`:"
      ]
    },
    {
      "cell_type": "code",
      "source": [
        "a = input('Назовите цифру 2 прохожий ')\n",
        "b = input('Назовите цифру 3 прохожий ')\n",
        "c = input('Назовите цифру 4 прохожий')\n",
        "d = '5'\n",
        "print(d+a+b+c)\n"
      ],
      "metadata": {
        "colab": {
          "base_uri": "https://localhost:8080/"
        },
        "id": "lQvT4assMHjS",
        "outputId": "2724f970-422a-4b80-d390-822515a3cde1"
      },
      "execution_count": 57,
      "outputs": [
        {
          "output_type": "stream",
          "name": "stdout",
          "text": [
            "Назовите цифру 2 прохожий 3\n",
            "Назовите цифру 3 прохожий 3\n",
            "Назовите цифру 4 прохожий3\n",
            "5333\n"
          ]
        }
      ]
    },
    {
      "cell_type": "code",
      "execution_count": null,
      "metadata": {
        "id": "BgIk3H8N6wD9"
      },
      "outputs": [],
      "source": [
        "a = \"pass\"\n",
        "b = \"word\"\n",
        "\n",
        "print(a + b)"
      ]
    }
  ],
  "metadata": {
    "kernelspec": {
      "display_name": "Python 3",
      "language": "python",
      "name": "python3"
    },
    "language_info": {
      "codemirror_mode": {
        "name": "ipython",
        "version": 3
      },
      "file_extension": ".py",
      "mimetype": "text/x-python",
      "name": "python",
      "nbconvert_exporter": "python",
      "pygments_lexer": "ipython3",
      "version": "3.6.5"
    },
    "colab": {
      "name": "1 - seminar1.ipynb",
      "provenance": []
    }
  },
  "nbformat": 4,
  "nbformat_minor": 0
}