{
  "cells": [
    {
      "cell_type": "markdown",
      "metadata": {
        "id": "TZ1AfLcUBdKV"
      },
      "source": [
        "## Основы программирования в Python\n",
        "\n",
        "*Алла Тамбовцева, НИУ ВШЭ*\n",
        "\n",
        "## Семинар 3"
      ]
    },
    {
      "cell_type": "markdown",
      "metadata": {
        "id": "74yZpGc5BdKa"
      },
      "source": [
        "### Задача 1\n",
        "\n",
        "Напишите программу, которая запрашивает у пользователя его фамилию, имя, отчество, введенные в одну строчку через пробел, и выводит на экран сообщения:\n",
        "\n",
        "    Ваша фамилия: фамилия\n",
        "    Ваше имя: имя\n",
        "    Ваше отчество: отчество\n",
        "\n",
        "**Пример:**\n",
        "\n",
        "*Входные данные:*\n",
        "\n",
        "    Введите Ваши ФИО: Тамбовцева Алла Андреевна\n",
        "\n",
        "*Выходные данные:*\n",
        "\n",
        "    Ваша фамилия: Тамбовцева\n",
        "    Ваше имя: Алла\n",
        "    Ваше отчество: Андреевна"
      ]
    },
    {
      "cell_type": "code",
      "source": [
        "a = input('Введите Ваши ФИО: ').split()\n",
        "print('Ваша фамилия:', a[0])\n",
        "print('Ваше имя:', a[1])\n",
        "print('Ваше отчество:', a[2])"
      ],
      "metadata": {
        "colab": {
          "base_uri": "https://localhost:8080/"
        },
        "id": "hLbxm_bcBpRd",
        "outputId": "52cad9d5-61b4-446a-f42b-67d39ec601ce"
      },
      "execution_count": 1,
      "outputs": [
        {
          "output_type": "stream",
          "name": "stdout",
          "text": [
            "Введите Ваши ФИО: Лопыгина Оксана юрьбвеан\n",
            "Ваша фамилия: Лопыгина\n",
            "Ваше имя: Оксана\n",
            "Ваше отчество: юрьбвеан\n"
          ]
        }
      ]
    },
    {
      "cell_type": "markdown",
      "metadata": {
        "id": "GIhRs9NSBdKb"
      },
      "source": [
        "### Задача 2\n",
        "\n",
        "Напишите программу, которая берет строку \"1; 2; 3; 100\" и возвращает:\n",
        "\n",
        "* список из целых чисел\n",
        "* список из чисел с плавающей точкой"
      ]
    },
    {
      "cell_type": "code",
      "source": [
        "a = '1; 2; 3; 100'.split(\"; \")\n",
        "a1 = []\n",
        "a2 = []\n",
        "for b in a:\n",
        "    a1.append(int(b)) \n",
        "print(a1)\n",
        "for b in a:\n",
        "    a2.append(float(b))\n",
        "print(a2)"
      ],
      "metadata": {
        "colab": {
          "base_uri": "https://localhost:8080/"
        },
        "id": "zVplkeaVB3o7",
        "outputId": "7ed8f243-4835-4c10-decd-1a995f51df52"
      },
      "execution_count": 3,
      "outputs": [
        {
          "output_type": "stream",
          "name": "stdout",
          "text": [
            "[1, 2, 3, 100]\n",
            "[1.0, 2.0, 3.0, 100.0]\n"
          ]
        }
      ]
    },
    {
      "cell_type": "markdown",
      "metadata": {
        "id": "61UmehbWBdKc"
      },
      "source": [
        "### Задача 3\n",
        "\n",
        "Напишите программу, которая запрашивает у пользователя номер мобильного телефона, введенный через дефис, а возвращает номер, записанный без дефисов и пробелов.\n",
        "\n",
        "*Входные данные:*\n",
        "\n",
        "    8-900-123-45-67\n",
        "\n",
        "*Выходные данные:*\n",
        "\n",
        "    89001234567"
      ]
    },
    {
      "cell_type": "code",
      "source": [
        "phone = input('Введите номер телефона через дефис: ').split(\"-\")\n",
        "a = \"\".join(phone)\n",
        "print(a)"
      ],
      "metadata": {
        "colab": {
          "base_uri": "https://localhost:8080/"
        },
        "id": "k4LtLno4CWWE",
        "outputId": "ad757382-fa4c-4991-bb1f-86a276818d28"
      },
      "execution_count": 4,
      "outputs": [
        {
          "output_type": "stream",
          "name": "stdout",
          "text": [
            "Введите номер телефона через дефис: 8-934-745-94-03\n",
            "89347459403\n"
          ]
        }
      ]
    },
    {
      "cell_type": "markdown",
      "metadata": {
        "id": "fd7J9M6cBdKc"
      },
      "source": [
        "### Задача 4\n",
        "\n",
        "Напишите программу, которая принимает на вход список L, в котором хранятся значения доходов домохозяйств за месяц, а возвращает новый список L2 ‒ список логарифмированных значений доходов."
      ]
    },
    {
      "cell_type": "code",
      "source": [
        "import math\n",
        "L = input('Введите значения доходов домохозяйств через пробел:').split()\n",
        "L2 = [math.log(int(i)) for i in L]\n",
        "print(L2)"
      ],
      "metadata": {
        "colab": {
          "base_uri": "https://localhost:8080/"
        },
        "id": "-F2t7YOBCjLu",
        "outputId": "cdc681cb-9999-4e7b-8be2-d9675ada6a94"
      },
      "execution_count": 6,
      "outputs": [
        {
          "output_type": "stream",
          "name": "stdout",
          "text": [
            "Введите значения доходов домохозяйств через пробел:100 1234 645 772\n",
            "[4.605170185988092, 7.1180162044653335, 6.4692503167957724, 6.648984550024776]\n"
          ]
        }
      ]
    },
    {
      "cell_type": "markdown",
      "metadata": {
        "id": "SSdghO8QBdKd"
      },
      "source": [
        "### Задача 5\n",
        "\n",
        "Напишите программу, которая принимает на вход список слов такого вида:\n",
        "\n",
        "    words = [\"Speak \",\"to\", \"me \", \"of\", \"Florence\" ,\"And \", \"of\", \"the\", \"Renaissance\"]\n",
        "\n",
        "а возвращает список\n",
        "\n",
        "    words_clean = [\"speak\", \"to\", \"me\", \"of\", \"florence\", \"and\", \"of\", \"the\", \"renaissance\"]\n",
        "\n",
        "Другими словами, программа убирает пробелы в словах и приводит все слова к нижнему регистру.\n",
        "\n",
        "**Подсказка:** запросите `help()`  по  методам `strip()` и `lower()`."
      ]
    },
    {
      "cell_type": "code",
      "source": [
        "words = [\"Speak \",\"to\", \"me \", \"of\", \"Florence\" ,\"And \", \"of\", \"the\", \"Renaissance\"]\n",
        "words_clean = [i.lower() for i in words ]\n",
        "print('words_clean =', words_clean)"
      ],
      "metadata": {
        "colab": {
          "base_uri": "https://localhost:8080/"
        },
        "id": "vcQTKoknDHK0",
        "outputId": "36a36064-88da-4a01-fd18-15c3441fbade"
      },
      "execution_count": 11,
      "outputs": [
        {
          "output_type": "stream",
          "name": "stdout",
          "text": [
            "words_clean = ['speak ', 'to', 'me ', 'of', 'florence', 'and ', 'of', 'the', 'renaissance']\n"
          ]
        }
      ]
    }
  ],
  "metadata": {
    "kernelspec": {
      "display_name": "Python 3",
      "language": "python",
      "name": "python3"
    },
    "language_info": {
      "codemirror_mode": {
        "name": "ipython",
        "version": 3
      },
      "file_extension": ".py",
      "mimetype": "text/x-python",
      "name": "python",
      "nbconvert_exporter": "python",
      "pygments_lexer": "ipython3",
      "version": "3.6.5"
    },
    "colab": {
      "name": "sem-20-04.ipynb",
      "provenance": []
    }
  },
  "nbformat": 4,
  "nbformat_minor": 0
}